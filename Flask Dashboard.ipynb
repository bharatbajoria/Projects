{
 "cells": [
  {
   "cell_type": "code",
   "execution_count": null,
   "metadata": {},
   "outputs": [],
   "source": [
    "from flask import Flask, render_template, request\n",
    "import pickle\n",
    "import numpy as np\n",
    "\n",
    "model = pickle.load(open('model.pkl', 'rb'))\n",
    "\n",
    "app = Flask(__name__)\n",
    "\n",
    "@app.route('/')\n",
    "def man():\n",
    "    return render_template('home.html')\n",
    "\n",
    "@app.route('/predict', methods=['POST'])\n",
    "def home():\n",
    "    data1 = request.form['a']\n",
    "    data2 = request.form['b']\n",
    "    data3 = request.form['c']\n",
    "    data4 = request.form['d']\n",
    "    data4 = request.form['d']\n",
    "    arr = np.array([[data1, data2, data3, data4]])\n",
    "    pred = model.predict(arr)\n",
    "    return render_template('after.html', data=pred)\n",
    "\n",
    "\n",
    "if __name__ == \"__main__\":\n",
    "    app.run(debug=False)\n"
   ]
  },
  {
   "cell_type": "code",
   "execution_count": 1,
   "metadata": {},
   "outputs": [
    {
     "name": "stdout",
     "output_type": "stream",
     "text": [
      "Collecting dash\n",
      "  Downloading dash-1.19.0.tar.gz (75 kB)\n",
      "Requirement already satisfied: Flask>=1.0.4 in c:\\users\\kamal\\anaconda3\\lib\\site-packages (from dash) (1.1.1)\n",
      "Collecting flask-compress\n",
      "  Downloading Flask_Compress-1.9.0-py3-none-any.whl (7.3 kB)\n",
      "Requirement already satisfied: plotly in c:\\users\\kamal\\anaconda3\\lib\\site-packages (from dash) (4.14.1)\n",
      "Collecting dash_renderer==1.9.0\n",
      "  Downloading dash_renderer-1.9.0.tar.gz (1.0 MB)\n",
      "Collecting dash-core-components==1.15.0\n",
      "  Downloading dash_core_components-1.15.0.tar.gz (3.5 MB)\n",
      "Collecting dash-html-components==1.1.2\n",
      "  Downloading dash_html_components-1.1.2.tar.gz (188 kB)\n",
      "Collecting dash-table==4.11.2\n",
      "  Downloading dash_table-4.11.2.tar.gz (1.8 MB)\n",
      "Requirement already satisfied: future in c:\\users\\kamal\\anaconda3\\lib\\site-packages (from dash) (0.17.1)\n",
      "Requirement already satisfied: click>=5.1 in c:\\users\\kamal\\anaconda3\\lib\\site-packages (from Flask>=1.0.4->dash) (7.0)\n",
      "Requirement already satisfied: itsdangerous>=0.24 in c:\\users\\kamal\\anaconda3\\lib\\site-packages (from Flask>=1.0.4->dash) (1.1.0)\n",
      "Requirement already satisfied: Jinja2>=2.10.1 in c:\\users\\kamal\\anaconda3\\lib\\site-packages (from Flask>=1.0.4->dash) (2.10.3)\n",
      "Requirement already satisfied: Werkzeug>=0.15 in c:\\users\\kamal\\anaconda3\\lib\\site-packages (from Flask>=1.0.4->dash) (0.16.0)\n",
      "Collecting brotli\n",
      "  Downloading Brotli-1.0.9-cp37-cp37m-win_amd64.whl (365 kB)\n",
      "Requirement already satisfied: retrying>=1.3.3 in c:\\users\\kamal\\anaconda3\\lib\\site-packages (from plotly->dash) (1.3.3)\n",
      "Requirement already satisfied: six in c:\\users\\kamal\\anaconda3\\lib\\site-packages (from plotly->dash) (1.12.0)\n",
      "Requirement already satisfied: MarkupSafe>=0.23 in c:\\users\\kamal\\anaconda3\\lib\\site-packages (from Jinja2>=2.10.1->Flask>=1.0.4->dash) (1.1.1)\n",
      "Building wheels for collected packages: dash, dash-renderer, dash-core-components, dash-html-components, dash-table\n",
      "  Building wheel for dash (setup.py): started\n",
      "  Building wheel for dash (setup.py): finished with status 'done'\n",
      "  Created wheel for dash: filename=dash-1.19.0-py3-none-any.whl size=84015 sha256=2f9256f215908a88833c645e2fe297fa1939d3ff1c1c15f6762b8726b74303a9\n",
      "  Stored in directory: c:\\users\\kamal\\appdata\\local\\pip\\cache\\wheels\\85\\e9\\f4\\033d9bd19fe04ba8b3b41b6cfaec3c4634e85bdcdd82858ff3\n",
      "  Building wheel for dash-renderer (setup.py): started\n",
      "  Building wheel for dash-renderer (setup.py): finished with status 'done'\n",
      "  Created wheel for dash-renderer: filename=dash_renderer-1.9.0-py3-none-any.whl size=1014875 sha256=3922b8fe6efdeacdace2008d1aaf8958778557ef8f722a26bf93ce2ee27bda5e\n",
      "  Stored in directory: c:\\users\\kamal\\appdata\\local\\pip\\cache\\wheels\\bb\\53\\d4\\13f2804207aada48c7182dfb85e03b50feecdf601e50ff5603\n",
      "  Building wheel for dash-core-components (setup.py): started\n",
      "  Building wheel for dash-core-components (setup.py): finished with status 'done'\n",
      "  Created wheel for dash-core-components: filename=dash_core_components-1.15.0-py3-none-any.whl size=3527019 sha256=c02535d9a1a3b16184c7aade34e1090a264936bf067633fa628175de732b5e6a\n",
      "  Stored in directory: c:\\users\\kamal\\appdata\\local\\pip\\cache\\wheels\\02\\a5\\de\\374685270e68a4a49867f9c0ddd477a85e09eb1a2cb0998f92\n",
      "  Building wheel for dash-html-components (setup.py): started\n",
      "  Building wheel for dash-html-components (setup.py): finished with status 'done'\n",
      "  Created wheel for dash-html-components: filename=dash_html_components-1.1.2-py3-none-any.whl size=427836 sha256=9ab906be93e0aa165cfb5058b94c723de19ae2a3c0a261465f6dd256e17c8b22\n",
      "  Stored in directory: c:\\users\\kamal\\appdata\\local\\pip\\cache\\wheels\\99\\cb\\33\\e4a2c51ecfcaa8ebeb37c1835d878860b76b2101833e31b434\n",
      "  Building wheel for dash-table (setup.py): started\n",
      "  Building wheel for dash-table (setup.py): finished with status 'done'\n",
      "  Created wheel for dash-table: filename=dash_table-4.11.2-py3-none-any.whl size=1839873 sha256=ebe8c4a0dd836c0e46b4c97a0a68d960c71b41fff742b1a0572bb665a66d70b9\n",
      "  Stored in directory: c:\\users\\kamal\\appdata\\local\\pip\\cache\\wheels\\57\\bc\\76\\fd2c8bfa63b7360f1dbf9814fb622ec0c7bec0107e6032e8fd\n",
      "Successfully built dash dash-renderer dash-core-components dash-html-components dash-table\n",
      "Installing collected packages: brotli, flask-compress, dash-renderer, dash-core-components, dash-html-components, dash-table, dash\n",
      "Successfully installed brotli-1.0.9 dash-1.19.0 dash-core-components-1.15.0 dash-html-components-1.1.2 dash-renderer-1.9.0 dash-table-4.11.2 flask-compress-1.9.0\n",
      "Note: you may need to restart the kernel to use updated packages.\n"
     ]
    },
    {
     "name": "stderr",
     "output_type": "stream",
     "text": [
      "WARNING: You are using pip version 20.1.1; however, version 21.0.1 is available.\n",
      "You should consider upgrading via the 'C:\\Users\\kamal\\Anaconda3\\python.exe -m pip install --upgrade pip' command.\n"
     ]
    }
   ],
   "source": [
    "pip install dash"
   ]
  }
 ],
 "metadata": {
  "kernelspec": {
   "display_name": "Python 3",
   "language": "python",
   "name": "python3"
  },
  "language_info": {
   "codemirror_mode": {
    "name": "ipython",
    "version": 3
   },
   "file_extension": ".py",
   "mimetype": "text/x-python",
   "name": "python",
   "nbconvert_exporter": "python",
   "pygments_lexer": "ipython3",
   "version": "3.7.4"
  }
 },
 "nbformat": 4,
 "nbformat_minor": 2
}
